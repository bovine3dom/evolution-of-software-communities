{
 "cells": [
  {
   "cell_type": "code",
   "execution_count": null,
   "metadata": {},
   "outputs": [],
   "source": [
    "include(\"init.jl\")"
   ]
  },
  {
   "cell_type": "code",
   "execution_count": null,
   "metadata": {},
   "outputs": [],
   "source": [
    "import FileIO"
   ]
  },
  {
   "cell_type": "code",
   "execution_count": null,
   "metadata": {},
   "outputs": [],
   "source": [
    "versions = FileIO.load(\"/home/olie/Dropbox_work/big_data/libraries-io/versions-1.2.0-2018-03-12.csv\")"
   ]
  },
  {
   "cell_type": "markdown",
   "metadata": {},
   "source": [
    "- Load the data\n",
    "- Plot distribution of (converted) date column"
   ]
  },
  {
   "cell_type": "code",
   "execution_count": null,
   "metadata": {},
   "outputs": [],
   "source": [
    "import DataFrames"
   ]
  },
  {
   "cell_type": "code",
   "execution_count": null,
   "metadata": {},
   "outputs": [],
   "source": [
    "versions = versions |> DataFrames.DataFrame"
   ]
  },
  {
   "cell_type": "code",
   "execution_count": null,
   "metadata": {},
   "outputs": [],
   "source": [
    "import Dates\n",
    "# df = Dates.DateFormat(\"y-m-d H:M:S \\\\U\\\\T\\\\C\")\n",
    "df = Dates.dateformat\"y-m-d H:M:S \\U\\T\\C\""
   ]
  },
  {
   "cell_type": "code",
   "execution_count": null,
   "metadata": {},
   "outputs": [],
   "source": [
    "versions[Symbol(\"Published Timestamp\")] = versions[Symbol(\"Published Timestamp\")] .|> x->Dates.DateTime(x, df)"
   ]
  },
  {
   "cell_type": "code",
   "execution_count": null,
   "metadata": {},
   "outputs": [],
   "source": [
    "nuts = versions[Symbol(\"Published Timestamp\")]\n",
    "sample = rand(nuts, 100000)"
   ]
  },
  {
   "cell_type": "code",
   "execution_count": null,
   "metadata": {},
   "outputs": [],
   "source": [
    "nuts |> unique |> sort"
   ]
  },
  {
   "cell_type": "code",
   "execution_count": null,
   "metadata": {},
   "outputs": [],
   "source": [
    "import Plots\n",
    "using StatsPlots\n",
    "Plots.gr()\n",
    "filter(x->x > Dates.Date(1990, 1, 1), sample) |> Plots.violin"
   ]
  },
  {
   "cell_type": "code",
   "execution_count": null,
   "metadata": {},
   "outputs": [],
   "source": [
    "versions[\n",
    "    (Dates.Date(1970, 1, 1) .< versions[Symbol(\"Published Timestamp\")]) .& (versions.Platform .== \"Pypi\"), :]"
   ]
  },
  {
   "cell_type": "code",
   "execution_count": null,
   "metadata": {},
   "outputs": [],
   "source": [
    "versions[versions.Platform .== \"NPM\", :][Symbol(\"Published Timestamp\")] |> unique |> sort"
   ]
  },
  {
   "cell_type": "code",
   "execution_count": null,
   "metadata": {},
   "outputs": [],
   "source": [
    "versions[(versions[Symbol(\"Published Timestamp\")] .< Dates.Date(2000, 1, 1)) .& (versions.Platform .== \"NPM\"), :]"
   ]
  },
  {
   "cell_type": "code",
   "execution_count": null,
   "metadata": {},
   "outputs": [],
   "source": [
    "versions[(versions[Symbol(\"Project Name\")] .== \"tld\") .& (versions.Platform .== \"NPM\"),:]"
   ]
  },
  {
   "cell_type": "code",
   "execution_count": null,
   "metadata": {},
   "outputs": [],
   "source": []
  }
 ],
 "metadata": {
  "language_info": {
   "name": "julia"
  },
  "kernelspec": {
   "display_name": "Julia 1.0.x",
   "language": "julia",
   "name": "julia-1.0"
  }
 },
 "nbformat": 4,
 "nbformat_minor": 2
}
