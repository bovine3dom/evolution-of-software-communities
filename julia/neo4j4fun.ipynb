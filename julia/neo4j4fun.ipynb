{
 "cells": [
  {
   "cell_type": "code",
   "execution_count": null,
   "metadata": {},
   "outputs": [],
   "source": [
    "include(\"init.jl\")"
   ]
  },
  {
   "cell_type": "code",
   "execution_count": null,
   "metadata": {},
   "outputs": [],
   "source": [
    "import Neo4j"
   ]
  },
  {
   "cell_type": "code",
   "execution_count": null,
   "metadata": {},
   "outputs": [],
   "source": [
    "c = Neo4j.Connection(\"localhost\"; user=\"neo4j\", password=ENV[\"NEO4JPW\"]);"
   ]
  },
  {
   "cell_type": "code",
   "execution_count": null,
   "metadata": {},
   "outputs": [],
   "source": [
    "#tx = Neo4j.transaction(c)\n",
    "#tx(\"\"\"\n",
    "#    MATCH (n:Repository)-->()-->(m)\n",
    "#    RETURN toInt(n.id),toInt(m.id)\n",
    "#    LIMIT 10\n",
    "#\"\"\")\n",
    "#results = Neo4j.commit(tx)"
   ]
  },
  {
   "cell_type": "code",
   "execution_count": null,
   "metadata": {},
   "outputs": [],
   "source": [
    "# Don't run this\n",
    "# I feel like there must be an \"end statement\" proword, to save having this silly map stuff.\n",
    "import_query = [\n",
    "    \"\"\"\n",
    "        match (n) detach delete n\n",
    "    \"\"\",\n",
    "    \"\"\"\n",
    "        LOAD CSV WITH HEADERS FROM \"file:///home/olie/Dropbox_work/big_data/libraries-io/playground/julia_projs_deps.csv\" as line\n",
    "        CREATE (n:Dependency)\n",
    "        SET n = line\n",
    "    \"\"\",\n",
    "    \"\"\"\n",
    "        LOAD CSV WITH HEADERS FROM \"file:///home/olie/Dropbox_work/big_data/libraries-io/playground/julia_repos.csv\" as line\n",
    "        CREATE (n:Repository)\n",
    "        SET n = line\n",
    "    \"\"\",\n",
    "    \"\"\"\n",
    "        LOAD CSV WITH HEADERS FROM \"file:///home/olie/Dropbox_work/big_data/libraries-io/playground/julia_projs.csv\" as line\n",
    "        CREATE (n:Project)\n",
    "        SET n = line\n",
    "    \"\"\",\n",
    "    \"\"\"\n",
    "        match (n:Project),(m:Dependency)\n",
    "        where m.`Repository ID` = n.`Repository ID`\n",
    "        create (n)-[:DEPENDENCY]->(m)\n",
    "    \"\"\",\n",
    "    \"\"\"\n",
    "        match (n:Project),(m:Dependency)\n",
    "        where m.`Dependency Project ID` = n.`ID`\n",
    "        create (m)-[:DEPENDS_ON]->(n)\n",
    "    \"\"\",\n",
    "    \"\"\"\n",
    "        match (n:Repository),(m:Dependency)\n",
    "        where m.`Repository ID` = n.`ID`\n",
    "        create (n)-[:DEPENDENCY]->(m)\n",
    "    \"\"\",\n",
    "    \"\"\"\n",
    "        match (n:Repository),(m:Project)\n",
    "        where m.`Repository ID` = n.`ID`\n",
    "        create (m)-[:REPO]->(n) \n",
    "    \"\"\",\n",
    "]\n",
    "\n",
    "tx = Neo4j.transaction(c)\n",
    "map(tx,import_query)\n",
    "results = Neo4j.commit(tx)"
   ]
  },
  {
   "cell_type": "code",
   "execution_count": null,
   "metadata": {},
   "outputs": [],
   "source": [
    "results = Neo4j.cypherQuery(c, \"\"\"\n",
    "    MATCH (n)-->()-->(m)\n",
    "    WHERE (n:Repository OR n:Project) AND (m:Repository OR m:Project)\n",
    "    RETURN toInt(n.ID),toInt(m.ID)\n",
    "\"\"\")"
   ]
  },
  {
   "cell_type": "code",
   "execution_count": null,
   "metadata": {},
   "outputs": [],
   "source": [
    "import LightGraphs, DataFrames"
   ]
  },
  {
   "cell_type": "code",
   "execution_count": null,
   "metadata": {},
   "outputs": [],
   "source": [
    "nodelist = Set([results[1:size(results,1),1] results[1:size(results,1),2]])\n",
    "nodemap = Dict(v => k for (k,v) in enumerate(nodelist))"
   ]
  },
  {
   "cell_type": "code",
   "execution_count": null,
   "metadata": {},
   "outputs": [],
   "source": [
    "g = LightGraphs.DiGraph(nodelist |> length)\n",
    "for r in DataFrames.eachrow(results)\n",
    "    LightGraphs.add_edge!(g,(nodemap[r[1]],nodemap[r[2]]))\n",
    "end\n",
    "g\n",
    "\n",
    "# We can probably speed this up a lot / use a StaticGraph\n",
    "# but is fine for now"
   ]
  }
 ],
 "metadata": {
  "language_info": {
   "name": "julia"
  },
  "kernelspec": {
   "display_name": "Julia 1.0.x",
   "language": "julia",
   "name": "julia-1.0"
  }
 },
 "nbformat": 4,
 "nbformat_minor": 2
}
