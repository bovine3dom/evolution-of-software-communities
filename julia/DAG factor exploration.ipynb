{
 "cells": [
  {
   "cell_type": "code",
   "execution_count": null,
   "metadata": {},
   "outputs": [],
   "source": [
    "include(\"init.jl\")\n",
    "using TensorOperations\n",
    "using TensorDecompositions\n",
    "using Statistics\n",
    "using LinearAlgebra\n",
    "import Plots\n",
    "import StatsPlots\n",
    "import LightGraphs # Need to use master to get DAG generator\n",
    "import GraphPlot\n",
    "zeroes = zeros"
   ]
  },
  {
   "cell_type": "code",
   "execution_count": null,
   "metadata": {},
   "outputs": [],
   "source": [
    "function g2f(g,r)\n",
    "    N = LightGraphs.nv(LightGraphs.DiGraph(g))\n",
    "    base_adj = g |> LightGraphs.adjacency_matrix;\n",
    "    perms = Int.(rand(N,N,TIMESTEPS) .> LINK_HIATUS_RATE)\n",
    "    for t in 1:TIMESTEPS\n",
    "        perms[:,:,t] = perms[:,:,t]  |> Symmetric\n",
    "    end\n",
    "\n",
    "    # Want to make a more recognisable temporal pattern\n",
    "    # Mask a block off and turn it on and off at various times\n",
    "     perms = zeroes(Int,N,N,TIMESTEPS)\n",
    "    SPECIAL_NODES = N ÷ 10\n",
    "    SPECIAL_TIME = 3\n",
    "    #for i in 1:N, j in 1:N, t in 1:TIMESTEPS\n",
    "    #    perms[i,j,t] = i <= SPECIAL_NODES && j <= SPECIAL_NODES && t <= SPECIAL_TIME ? 0 : 1\n",
    "    #end\n",
    "    # should probably find a nicer way of doing this...\n",
    "\n",
    "    ADJ = zeroes(N,N,TIMESTEPS) # making this takes _AGES_\n",
    "    #for i in 1:N, j in 1:N, t in 1:TIMESTEPS\n",
    "    #    ADJ[i,j,t] = base_adj[i,j] & perms[i,j,t]\n",
    "    #end\n",
    "\n",
    "    for t in 1:TIMESTEPS\n",
    "        ADJ[:,:,t] = base_adj\n",
    "    end\n",
    "\n",
    "    # I expected\n",
    "    # @tensor ADJ[i,j,t] = base_adj[i,j] & perms[i,j,t]\n",
    "    # to work, but it doesn't.\n",
    "\n",
    "    # should probably try to make more distinct temporal communities that agree with SBM to make this a fairer test\n",
    "\n",
    "    ADJ |> size\n",
    "\n",
    "    nncp(ADJ, r; # R is the number of components ≈ number of communities\n",
    "        # I think Ciro spoke about optimising this number somewhere\n",
    "        # papers refer to it - core consistency\n",
    "        compute_error=true,\n",
    "        maxiter=1000,\n",
    "        verbose=false\n",
    "    )\n",
    "end\n",
    "\n",
    "function g2coms(g,fac)\n",
    "    F = g2f(g,3)\n",
    "    Plots.heatmap(\n",
    "        F.factors[fac]; # Hmm, so Colin was right, it's because of the power law\n",
    "        xlabel=\"Community\",\n",
    "        ylabel=\"Node membership strength\",\n",
    "    )\n",
    "end"
   ]
  },
  {
   "cell_type": "code",
   "execution_count": null,
   "metadata": {},
   "outputs": [],
   "source": [
    "N = 100 # ignored if using SBM\n",
    "TIMESTEPS = 10\n",
    "DENSITY = 0.05 # unused atm\n",
    "LINK_HIATUS_RATE = 0.1\n"
   ]
  },
  {
   "cell_type": "code",
   "execution_count": null,
   "metadata": {},
   "outputs": [],
   "source": [
    "g = LightGraphs.barabasi_albert(N,1)\n",
    "\n",
    "base_adj = g |> LightGraphs.adjacency_matrix |> UpperTriangular;\n",
    "g = LightGraphs.DiGraph(base_adj)\n",
    "g2coms(g,2)"
   ]
  },
  {
   "cell_type": "code",
   "execution_count": null,
   "metadata": {},
   "outputs": [],
   "source": [
    "g2coms(g,1)"
   ]
  },
  {
   "cell_type": "code",
   "execution_count": null,
   "metadata": {},
   "outputs": [],
   "source": [
    "g = LightGraphs.barabasi_albert(N,1)\n",
    "g2coms(g,1)"
   ]
  },
  {
   "cell_type": "code",
   "execution_count": null,
   "metadata": {},
   "outputs": [],
   "source": [
    "g2coms(g,2)"
   ]
  },
  {
   "cell_type": "code",
   "execution_count": null,
   "metadata": {},
   "outputs": [],
   "source": [
    "g = LightGraphs.erdos_renyi(N,0.05)\n",
    "g2coms(g,2)"
   ]
  },
  {
   "cell_type": "code",
   "execution_count": null,
   "metadata": {},
   "outputs": [],
   "source": [
    "g2coms(g,1)"
   ]
  },
  {
   "cell_type": "code",
   "execution_count": null,
   "metadata": {},
   "outputs": [],
   "source": [
    "g = LightGraphs.random_orientation_dag(g)\n",
    "\n",
    "g2coms(g,1)"
   ]
  },
  {
   "cell_type": "code",
   "execution_count": null,
   "metadata": {},
   "outputs": [],
   "source": [
    "g2coms(g,2)"
   ]
  },
  {
   "cell_type": "code",
   "execution_count": null,
   "metadata": {},
   "outputs": [],
   "source": [
    "g = LightGraphs.stochastic_block_model(\n",
    "    [\n",
    "        3   2/N   2/N; # c[a,b] = mean number of neighbours between nodes in block a and block b (only pay attention to upper tri)\n",
    "        0   3   2/N;\n",
    "        0   0   3;\n",
    "    ],\n",
    "    [50,50,50] # number of nodes in each block\n",
    ")\n",
    "g2coms(g,1)"
   ]
  },
  {
   "cell_type": "code",
   "execution_count": null,
   "metadata": {},
   "outputs": [],
   "source": [
    "g2coms(g,2)"
   ]
  },
  {
   "cell_type": "code",
   "execution_count": null,
   "metadata": {},
   "outputs": [],
   "source": [
    "g = LightGraphs.random_orientation_dag(g)\n",
    "g2coms(g,1)"
   ]
  },
  {
   "cell_type": "code",
   "execution_count": null,
   "metadata": {},
   "outputs": [],
   "source": [
    "g2coms(g,2)"
   ]
  },
  {
   "cell_type": "code",
   "execution_count": null,
   "metadata": {},
   "outputs": [],
   "source": [
    "base_adj = g |> LightGraphs.adjacency_matrix |> UpperTriangular;\n",
    "g = LightGraphs.DiGraph(base_adj)\n",
    "g2coms(g,1)"
   ]
  },
  {
   "cell_type": "code",
   "execution_count": null,
   "metadata": {},
   "outputs": [],
   "source": [
    "g2coms(g,2)"
   ]
  },
  {
   "cell_type": "code",
   "execution_count": null,
   "metadata": {},
   "outputs": [],
   "source": [
    "# So, in conclusion: we get mostly empty first factor because of power law + upper-triangular arrangement,\n",
    "# Not really anything to do with DAG"
   ]
  },
  {
   "cell_type": "code",
   "execution_count": null,
   "metadata": {},
   "outputs": [],
   "source": [
    "g = LightGraphs.barabasi_albert(N,1)\n",
    "\n",
    "base_adj = g |> LightGraphs.adjacency_matrix |> UpperTriangular;\n",
    "g = LightGraphs.DiGraph(base_adj)\n",
    "F = g2f(g,3)"
   ]
  },
  {
   "cell_type": "code",
   "execution_count": null,
   "metadata": {},
   "outputs": [],
   "source": [
    "@show mean(F.factors[1])\n",
    "@show Statistics.std(F.factors[1])\n",
    "@show Statistics.median(F.factors[1])"
   ]
  },
  {
   "cell_type": "code",
   "execution_count": null,
   "metadata": {},
   "outputs": [],
   "source": [
    "@show mean(F.factors[2])\n",
    "@show Statistics.std(F.factors[2])\n",
    "@show Statistics.median(F.factors[2])"
   ]
  },
  {
   "cell_type": "code",
   "execution_count": null,
   "metadata": {},
   "outputs": [],
   "source": [
    "Plots.boxplot(normalize(F.factors[1][F.factors[1] .< mean(F.factors[1])])) # Power law all the way down"
   ]
  },
  {
   "cell_type": "code",
   "execution_count": null,
   "metadata": {},
   "outputs": [],
   "source": []
  }
 ],
 "metadata": {
  "language_info": {
   "name": "julia"
  },
  "kernelspec": {
   "display_name": "Julia 1.0.x",
   "language": "julia",
   "name": "julia-1.0"
  }
 },
 "nbformat": 4,
 "nbformat_minor": 2
}
