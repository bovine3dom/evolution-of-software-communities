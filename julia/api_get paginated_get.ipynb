{
 "cells": [
  {
   "cell_type": "code",
   "execution_count": null,
   "metadata": {},
   "outputs": [],
   "source": [
    "include(\"init.jl\")\n",
    "import HTTP\n",
    "import JSON\n",
    "import Distributed\n",
    "import Dates\n",
    "import TimeSeries\n",
    "using Caching"
   ]
  },
  {
   "cell_type": "code",
   "execution_count": null,
   "metadata": {},
   "outputs": [],
   "source": [
    "const API_KEY = \"bfb480074e9b9499c7627f81ca467b2c\"\n",
    "const LIBIO_DATE_FORMAT = Dates.DateFormat(\"y-m-d\\\\TH:M:S.s\\\\Z\")"
   ]
  },
  {
   "cell_type": "code",
   "execution_count": null,
   "metadata": {},
   "outputs": [],
   "source": [
    "# Func to request from API and rate limit\n",
    "\n",
    "function api_get(url, key=API_KEY)\n",
    "    return _api_get(url, key) |> JSON.parse\n",
    "end\n",
    "\n",
    "@cache function _api_get(url::String, key::String=API_KEY)\n",
    "    while true\n",
    "        try\n",
    "            response = HTTP.get(url * \"&api_key=$key\")\n",
    "            return response.body |> String\n",
    "        catch (e)\n",
    "            if e isa HTTP.ExceptionRequest.StatusError\n",
    "                if e.status == 429\n",
    "                    println(429)\n",
    "                    sleep(1)\n",
    "                    # return api_get(url, key)\n",
    "                else\n",
    "                    throw(e)\n",
    "                end\n",
    "            else\n",
    "                throw(e)\n",
    "            end\n",
    "        end\n",
    "    end\n",
    "end \"libraries-io-api-get.bin\"\n",
    "\n",
    "function dateconv(libiodatestr)\n",
    "    Dates.DateTime(libiodatestr,LIBIO_DATE_FORMAT)\n",
    "end\n",
    "\n",
    "function deps_get(pkgname,pkgmanager)\n",
    "    sanitary_pkgname = HTTP.URIs.escapeuri(pkgname)\n",
    "    url = (version) -> \"https://libraries.io/api/$(pkgmanager)/$(sanitary_pkgname)/\" * HTTP.URIs.escapeuri(version) * \"/dependencies?\"\n",
    "    pkgdeets =  \"latest\" |> url |> api_get |> deepcopy\n",
    "    for v in pkgdeets[\"versions\"] # yeah, we do sort of waste a call here, but who cares?\n",
    "        vdeets = v[\"number\"] |> url |> api_get |> deepcopy\n",
    "        v[\"dependencies\"] = [v[\"name\"] for v in vdeets[\"dependencies\"]]\n",
    "        v[\"published_at_datetime\"] = v[\"published_at\"] |> dateconv\n",
    "    end\n",
    "    return pkgdeets\n",
    "end\n",
    "# So - we need to decide where/how to store this information. I'm tempted to just chuck it in the main JSON/dict, under pkg[version_number].\n",
    "#[c[\"number\"] for c in core[\"versions\"]]\n",
    "#(v -> findfirst(x->x[\"number\"]==v, core[\"versions\"]))(\"5.1.1\")"
   ]
  },
  {
   "cell_type": "code",
   "execution_count": null,
   "metadata": {},
   "outputs": [],
   "source": [
    "# Func to get all versions\n",
    "\n",
    "function paginated_get(url, key=API_KEY)\n",
    "    # Api get page 1, sleep .5, get page 2, continue until 404.\n",
    "    results = []\n",
    "    page = 1\n",
    "    while true\n",
    "        try\n",
    "            r =  api_get(url * \"&page=$page&per_page=100&api_key=$key\") |> deepcopy\n",
    "            length(r) == 0 && return results\n",
    "            push!(results, r)\n",
    "            print(page, \" \")\n",
    "            page += 1\n",
    "        catch e\n",
    "            if e isa HTTP.ExceptionRequest.StatusError\n",
    "                if e.status == 404\n",
    "                    return results\n",
    "                elseif e.status == 500\n",
    "                    # Sometimes we'll get a 500 error. If we do we should probably just try again.\n",
    "                else\n",
    "                    # THIS IS BAD don't do this\n",
    "                    print(e)\n",
    "                    page += 1\n",
    "                end\n",
    "            else throw(e)\n",
    "            end\n",
    "        end\n",
    "        sleep(.5)\n",
    "    end\n",
    "end"
   ]
  },
  {
   "cell_type": "code",
   "execution_count": null,
   "metadata": {},
   "outputs": [],
   "source": [
    "#elm_versions_task = Distributed.@spawn paginated_get(\"https://libraries.io/api/search?&platforms=elm\")"
   ]
  },
  {
   "cell_type": "code",
   "execution_count": null,
   "metadata": {},
   "outputs": [],
   "source": [
    "@syncache! _api_get"
   ]
  },
  {
   "cell_type": "code",
   "execution_count": null,
   "metadata": {},
   "outputs": [],
   "source": [
    "api_get(\"https://libraries.io/api/search?&platforms=elm\")"
   ]
  },
  {
   "cell_type": "code",
   "execution_count": null,
   "metadata": {},
   "outputs": [],
   "source": [
    "#fetch(elm_versions_task)"
   ]
  },
  {
   "cell_type": "code",
   "execution_count": null,
   "metadata": {},
   "outputs": [],
   "source": [
    "@persist! api_get"
   ]
  },
  {
   "cell_type": "code",
   "execution_count": null,
   "metadata": {},
   "outputs": [],
   "source": [
    "import TranscodingStreams, CodecZlib"
   ]
  },
  {
   "cell_type": "code",
   "execution_count": null,
   "metadata": {},
   "outputs": [],
   "source": [
    "# Save package data \n",
    "\n",
    "#open(\"elm_pkg_cache.json.gz\",\"w\") do f\n",
    "#    write(f,TranscodingStreams.transcode(\n",
    "#            CodecZlib.GzipCompressor,Vector{UInt8}(JSON.json(fetch(elm_versions_task),4))\n",
    "#        )\n",
    "#    )\n",
    "#end;"
   ]
  },
  {
   "cell_type": "code",
   "execution_count": null,
   "metadata": {},
   "outputs": [],
   "source": [
    "# Load package data from file to stop us hammering NPM\n",
    "elm_cache = open(\"elm_pkg_cache.json.gz\",\"r\") do f\n",
    "    JSON.parse(String(TranscodingStreams.transcode(\n",
    "            CodecZlib.GzipDecompressor,read(f)\n",
    "    )))\n",
    "end;"
   ]
  },
  {
   "cell_type": "code",
   "execution_count": null,
   "metadata": {},
   "outputs": [],
   "source": [
    "core = deps_get(\"elm-lang/core\",\"elm\")"
   ]
  },
  {
   "cell_type": "code",
   "execution_count": null,
   "metadata": {},
   "outputs": [],
   "source": [
    "api_get"
   ]
  },
  {
   "cell_type": "code",
   "execution_count": null,
   "metadata": {},
   "outputs": [],
   "source": [
    "td = core[\"versions\"][1]\n",
    "td.slots"
   ]
  },
  {
   "cell_type": "code",
   "execution_count": null,
   "metadata": {},
   "outputs": [],
   "source": [
    "[c[\"number\"] for c in core[\"versions\"]]\n",
    "#(v -> findfirst(x->x[\"number\"]==v, core[\"versions\"]))(\"5.1.1\")"
   ]
  },
  {
   "cell_type": "code",
   "execution_count": null,
   "metadata": {},
   "outputs": [],
   "source": [
    "(v -> findfirst(x->x[\"number\"]==v, core[\"versions\"]))(\"5.1.1\")"
   ]
  },
  {
   "cell_type": "code",
   "execution_count": null,
   "metadata": {},
   "outputs": [],
   "source": [
    "a = Dict()\n",
    "a[\"ok\"] = \"test\""
   ]
  },
  {
   "cell_type": "code",
   "execution_count": null,
   "metadata": {},
   "outputs": [],
   "source": [
    "elmcss = deps_get(\"rtfeldman/elm-css\",\"elm\")"
   ]
  },
  {
   "cell_type": "code",
   "execution_count": null,
   "metadata": {},
   "outputs": [],
   "source": [
    "#for v in elmcss[\"versions\"]\n",
    "#    println(v[\"published_at\"], \" \", v[\"number\"], \" \", v[\"dependencies\"])\n",
    "#end\n",
    "sort!(elmcss[\"versions\"],by=x->x[\"published_at\"])\n",
    "elmts = TimeSeries.TimeArray(\n",
    "    [v[\"published_at\"] for v in elmcss[\"versions\"]],\n",
    "    [v[\"number\"] for v in elmcss[\"versions\"]],\n",
    ")"
   ]
  },
  {
   "cell_type": "code",
   "execution_count": null,
   "metadata": {},
   "outputs": [],
   "source": [
    "TimeSeries.to(\n",
    "    TimeSeries.collapse(elmts,TimeSeries.month,TimeSeries.last),\n",
    "    Dates.DateTime(\"2016-05-11\")\n",
    ")[end]"
   ]
  },
  {
   "cell_type": "code",
   "execution_count": null,
   "metadata": {},
   "outputs": [],
   "source": [
    "TimeSeries.collapse(elmts,TimeSeries.month,TimeSeries.last),"
   ]
  },
  {
   "cell_type": "code",
   "execution_count": null,
   "metadata": {},
   "outputs": [],
   "source": []
  }
 ],
 "metadata": {
  "language_info": {
   "name": "julia"
  },
  "kernelspec": {
   "display_name": "Julia 1.0.x",
   "language": "julia",
   "name": "julia-1.0"
  }
 },
 "nbformat": 4,
 "nbformat_minor": 2
}
