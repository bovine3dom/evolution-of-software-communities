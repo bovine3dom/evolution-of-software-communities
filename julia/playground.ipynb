{
 "cells": [
  {
   "cell_type": "code",
   "execution_count": null,
   "metadata": {},
   "outputs": [],
   "source": [
    "include(\"init.jl\")"
   ]
  },
  {
   "cell_type": "code",
   "execution_count": null,
   "metadata": {},
   "outputs": [],
   "source": [
    "import HTTP, Plots, LightGraphs, JSON, GitHub, Base64, MetaGraphs, GraphPlot, FileIO, TranscodingStreams, CodecZlib\n",
    "const lg = LightGraphs\n",
    "const mg = MetaGraphs\n",
    "\n",
    "# Todo:\n",
    "# Better wrapper for requests, dealing with \"please slow down requests\" etc"
   ]
  },
  {
   "cell_type": "markdown",
   "metadata": {},
   "source": [
    "## GitHub crawler\n",
    "\n",
    "Not remotely finished.\n",
    "\n",
    "### Todo\n",
    "\n",
    "- Error handling (esp rate limiting)\n",
    "- Store in package database alongside NPM (see further down)\n",
    "- Store more info than currently\n",
    "- Get package.json automatically"
   ]
  },
  {
   "cell_type": "code",
   "execution_count": null,
   "metadata": {},
   "outputs": [],
   "source": [
    "table = Array{Any,2}\n",
    "for page in 1:10 # NB: Only allowed 10 requests a minute without a key. 30 if we use one.\n",
    "    r = HTTP.request(\n",
    "        \"GET\",\n",
    "        \"https://api.github.com/search/repositories?q=language:javascript+language:typescript&sort=stars&page=$page\",\n",
    "        Dict(\"User-Agent\"=>\"node-conservation-society\");\n",
    "        #verbose=3\n",
    "    )\n",
    "    results = JSON.parse(r.body |> String)\n",
    "    for hit in results[\"items\"]\n",
    "        table = [table; [hit[\"owner\"][\"login\"]*\"/\"*hit[\"name\"]  hit[\"stargazers_count\"]]]\n",
    "    end\n",
    "end\n",
    "table = table[2:end, :] # Don't ask why/how we get a strange type as the first column\n",
    "#println(r.status)\n",
    "#println(String(r.body))\n",
    "\n",
    "# Need to provide a user agent via eg https://juliaweb.github.io/HTTP.jl/stable/index.html#HTTP.MessageRequest.setuseragent! as per https://developer.github.com/v3/#user-agent-required"
   ]
  },
  {
   "cell_type": "code",
   "execution_count": null,
   "metadata": {},
   "outputs": [],
   "source": [
    "Plots.histogram(\n",
    "    table[2:end,2];\n",
    "    legend=:none,\n",
    "    yscale=:log10,\n",
    "    ylabel=\"Count\",\n",
    "    xlabel=\"Stars\"\n",
    ")\n",
    "# huh, this isn't a power law. weird."
   ]
  },
  {
   "cell_type": "code",
   "execution_count": null,
   "metadata": {},
   "outputs": [],
   "source": [
    "#filter(k->occursin(\"star\",k),results[\"items\"][1]|>keys)"
   ]
  },
  {
   "cell_type": "code",
   "execution_count": null,
   "metadata": {},
   "outputs": [],
   "source": [
    "#toypackages = Dict(\n",
    "#    \"root\" => Dict(\n",
    "#        \"devDependencies\" => Dict(\n",
    "#            \"source\" => \"1.1\",\n",
    "#        ),\n",
    "#    ),\n",
    "#    \"source\" => getnpmdeets(\"fuse.js\",\"3.3.0\"),\n",
    "#    #addnodeanddeps! takes a long time for fuse.\n",
    "#)"
   ]
  },
  {
   "cell_type": "code",
   "execution_count": null,
   "metadata": {},
   "outputs": [],
   "source": [
    "# Load package data from file to stop us hammering NPM\n",
    "toypackages = open(\"pkg_cache.json.gz\",\"r\") do f\n",
    "    JSON.parse(String(TranscodingStreams.transcode(\n",
    "            CodecZlib.GzipDecompressor,read(f)\n",
    "    )))\n",
    "end"
   ]
  },
  {
   "cell_type": "code",
   "execution_count": null,
   "metadata": {},
   "outputs": [],
   "source": [
    "function getpkgjson(user_slash_repo)\n",
    "    # Todo: catch 404s etc\n",
    "    try\n",
    "        package = GitHub.file(user_slash_repo,\"package.json\")\n",
    "        return JSON.parse(package.content |> split |> join |> Base64.base64decode |> String)\n",
    "    catch(e)\n",
    "        return Dict{String,Any}()\n",
    "    end\n",
    "end\n",
    "function addghdeets!(user_slash_repo,pkgs=toypackages)\n",
    "    pkgs[replace(user_slash_repo,r\".*/\"=>\"\")] = getpkgjson(user_slash_repo)\n",
    "end"
   ]
  },
  {
   "cell_type": "code",
   "execution_count": null,
   "metadata": {},
   "outputs": [],
   "source": [
    "[addghdeets!(table[i,1]) for i in 20:100] # triggers rate limit by the looks of things"
   ]
  },
  {
   "cell_type": "code",
   "execution_count": null,
   "metadata": {},
   "outputs": [],
   "source": [
    "#merge(\n",
    "#    get(deps,\"dependencies\",Dict{String,Any}()),\n",
    "#    get(deps,\"devDependencies\",Dict{String,Any}())\n",
    "#)\n",
    "# Need to deal with version strings via npm registry, github / git:// / gitlab?\n",
    "# Probably lots of error checking\n",
    "# https://blog.npmjs.org/post/164799520460/api-rate-limiting-rolling-out error code 429 is \"please slow down\""
   ]
  },
  {
   "cell_type": "markdown",
   "metadata": {},
   "source": [
    "## NPM crawler\n",
    "\n",
    "### Todo:\n",
    "\n",
    "- Error handling (we currently skip many errors)\n",
    "- Weird version handling: URLs, stars, etc\n",
    "    - Stars as versions: Julia has nice v\"0.5.2\" style version strings with gt / lt support, so we can just get all version numbers from NPM and just take the maximum \n",
    "    - URLs as versions: probably should use GitHub (and GitLab API) to get package.json, otherwise just give up\n",
    "- Less silly names for things\n",
    "- Get rid of debugging printlns\n",
    "- Todo: there can be collisions between GitHub repo names and NPM packages (e.g, airbnb/javascript). Consider splitting their caches up."
   ]
  },
  {
   "cell_type": "code",
   "execution_count": null,
   "metadata": {},
   "outputs": [],
   "source": [
    "function getnpmdeets(pkgname,version=\"\")\n",
    "    # NPM registry API: https://github.com/npm/registry/blob/master/docs/REGISTRY-API.md / https://registry.npmjs.org/\n",
    "    println(pkgname,\"-v\",version)\n",
    "    try\n",
    "        r = HTTP.request(\n",
    "            \"GET\",\n",
    "            \"https://registry.npmjs.org/$pkgname/$version\",\n",
    "            # /package/version - need to strip non-numeric / . characters from version?\n",
    "            #Dict(\"User-Agent\"=>\"node-conservation-society\");\n",
    "            #verbose=3\n",
    "            # need to deal with 404s etc\n",
    "        )\n",
    "        # Can use \"maintainers\" instead of GitHub contributors if we're feeling lazy\n",
    "        return r.body |> String |> JSON.parse\n",
    "    catch(e)\n",
    "        return JSON.parse(\"{}\")\n",
    "    end\n",
    "end"
   ]
  },
  {
   "cell_type": "code",
   "execution_count": null,
   "metadata": {},
   "outputs": [],
   "source": [
    "# Julian convention is to put the argument you modify first, but I wanted it to be optional\n",
    "function addnpmdeets!(pkgname,version=\"\",pkgs=toypackages)\n",
    "    pkgs[pkgname] = getnpmdeets(pkgname,version)\n",
    "end"
   ]
  },
  {
   "cell_type": "code",
   "execution_count": null,
   "metadata": {},
   "outputs": [],
   "source": [
    "ver2str(v) = string(v.major, \".\", v.minor, \".\", v.patch)\n",
    "# need to deal with * version string : (\n",
    "# can probs just do maximum(VersionNumber.(pkgjson[thething][\"versions\"] |> keys))\n",
    "cleanver(x) = begin \n",
    "    try\n",
    "        #println(x);\n",
    "        return ver2str(VersionNumber(replace(x,r\"[^0-9.]\"=>\"\")));\n",
    "    catch(e)\n",
    "        return \"\"\n",
    "    end\n",
    "end"
   ]
  },
  {
   "cell_type": "code",
   "execution_count": null,
   "metadata": {},
   "outputs": [],
   "source": [
    "# Pseudo-code for (meta)digraph building:\n",
    "# big dict of package name -> Dict(deps,devDeps,etc)\n",
    "# g = lg.MetaGraph(lg.DiGraph())\n",
    "# for each root package (popular starred one)\n",
    "    # if it doesn't exist, make a node\n",
    "    # for each dep\n",
    "        # make a node if one doesn't exist\n",
    "            # if it didn't exist, for each dep\n",
    "                # make a node etc. etc.\n",
    "                # link to that node\n",
    "        # link to that node\n",
    "\n",
    "# \n",
    "# addnodeanddeps!(g,pkgname) = begin\n",
    "    # search metagraph for thisnode\n",
    "    # if it doesn't exist, addedge(thisnode,addnodeanddeps!(g,pkgname))\n",
    "    # return thisnode\n",
    "# end"
   ]
  },
  {
   "cell_type": "code",
   "execution_count": null,
   "metadata": {},
   "outputs": [],
   "source": [
    "function addnodeanddeps!(g, pkgname, version=\"\", pkgs=toypackages)\n",
    "    node = 0\n",
    "    # if pkgname not in pkgs, look it up on NPM, add to pkgs\n",
    "   if !(pkgname in keys(pkgs))\n",
    "       addnpmdeets!(pkgname,version,pkgs)\n",
    "   end\n",
    "    try\n",
    "        node = g[pkgname,:name]\n",
    "    catch(e) # if node not in graph already\n",
    "        lg.add_vertex!(g)\n",
    "        node = lg.nv(g)\n",
    "        mg.set_prop!(G,node,:name,pkgname)\n",
    "        # we perhaps want the nested get to throw an error\n",
    "        for (depname, depversion) in get(get(toypackages,pkgname,Dict()),\"devDependencies\",Dict{String,Any}())\n",
    "            depnode = addnodeanddeps!(G,depname,cleanver(depversion))\n",
    "            lg.add_edge!(G,node,depnode)\n",
    "        end\n",
    "        for (depname, depversion) in get(get(toypackages,pkgname,Dict()),\"dependencies\",Dict{String,Any}())\n",
    "            depnode = addnodeanddeps!(G,depname,cleanver(depversion))\n",
    "            lg.add_edge!(G,node,depnode)\n",
    "        end\n",
    "    end\n",
    "    return node\n",
    "end"
   ]
  },
  {
   "cell_type": "code",
   "execution_count": null,
   "metadata": {},
   "outputs": [],
   "source": [
    "import ProgressMeter"
   ]
  },
  {
   "cell_type": "code",
   "execution_count": null,
   "metadata": {},
   "outputs": [],
   "source": [
    "G = mg.MetaDiGraph()\n",
    "mg.set_indexing_prop!(G,:name)\n",
    "addnodeanddeps!(G,\"vscode\")\n",
    "#ProgressMeter.@showprogress [addnodeanddeps!(G,table[i,1]) for i in 1:20]\n",
    "G"
   ]
  },
  {
   "cell_type": "code",
   "execution_count": null,
   "metadata": {},
   "outputs": [],
   "source": [
    "[table[i,1] for i in 1:20]"
   ]
  },
  {
   "cell_type": "code",
   "execution_count": null,
   "metadata": {},
   "outputs": [],
   "source": [
    "G"
   ]
  },
  {
   "cell_type": "code",
   "execution_count": null,
   "metadata": {},
   "outputs": [],
   "source": [
    "#GraphPlot.gplot(\n",
    "#    G,\n",
    "#   #nodelabel=(\n",
    "#   #    mg.get_prop(G,i,:name) for i in 1:lg.nv(G)\n",
    "#   #),\n",
    "#)"
   ]
  },
  {
   "cell_type": "code",
   "execution_count": null,
   "metadata": {},
   "outputs": [],
   "source": [
    "(mg.get_prop(G,i,:name) for i in 1:lg.nv(G))"
   ]
  },
  {
   "cell_type": "code",
   "execution_count": null,
   "metadata": {},
   "outputs": [],
   "source": [
    "toypackages[\"yes\"] = Dict{String,Any}()"
   ]
  },
  {
   "cell_type": "code",
   "execution_count": null,
   "metadata": {},
   "outputs": [],
   "source": [
    "\"root\" in keys(toypackages)"
   ]
  },
  {
   "cell_type": "code",
   "execution_count": null,
   "metadata": {},
   "outputs": [],
   "source": [
    "# plan to deal with * version number: ask npm about all versions, convert all versions to v\"\", then just max. job done."
   ]
  },
  {
   "cell_type": "code",
   "execution_count": null,
   "metadata": {},
   "outputs": [],
   "source": [
    "map(v->(mg.get_prop(G,v[1],:name),v[1],v[2]),sort(collect(enumerate(lg.pagerank(G))),by=x->x[2]))"
   ]
  },
  {
   "cell_type": "code",
   "execution_count": null,
   "metadata": {},
   "outputs": [],
   "source": [
    "map(v->(mg.get_prop(G,v[1],:name),v[1],v[2]),sort(collect(enumerate(lg.Parallel.betweenness_centrality(G))),by=x->x[2]))"
   ]
  },
  {
   "cell_type": "code",
   "execution_count": null,
   "metadata": {},
   "outputs": [],
   "source": [
    "toypackages[\"liftoff\"][\"description\"]\n",
    "# Liftoff is already a pretty good candidate.\n",
    "# Very little activity since July 2016. 500 projects use it."
   ]
  },
  {
   "cell_type": "code",
   "execution_count": null,
   "metadata": {},
   "outputs": [],
   "source": [
    "Plots.histogram(lg.pagerank(G);yscale=:log10)"
   ]
  },
  {
   "cell_type": "code",
   "execution_count": null,
   "metadata": {},
   "outputs": [],
   "source": [
    "lg.pagerank(G)[414]"
   ]
  },
  {
   "cell_type": "code",
   "execution_count": null,
   "metadata": {},
   "outputs": [],
   "source": [
    "import JLD2, FileIO"
   ]
  },
  {
   "cell_type": "code",
   "execution_count": null,
   "metadata": {},
   "outputs": [],
   "source": [
    "[length(lg.all_neighbors(G,i)) for i in 1:lg.nv(G)][414]"
   ]
  },
  {
   "cell_type": "code",
   "execution_count": null,
   "metadata": {},
   "outputs": [],
   "source": [
    "map(v->(mg.get_prop(G,v[1],:name),v[1],v[2]),sort([(i,length(lg.inneighbors(G,i))) for i in 1:lg.nv(G)],by=x->x[2]))"
   ]
  },
  {
   "cell_type": "markdown",
   "metadata": {},
   "source": [
    "# Network analysis\n",
    "\n",
    "- Dependency importance:\n",
    "    - PageRank (look for algorithm with authority (i.e, stars))\n",
    "        - Think about why/how this makes sense: presumably because there is a time lag - the further away you are from an important package, the longer it takes you to infect it.\n",
    "    - Betweenness centrality\n",
    "        - Ditto\n",
    "    - Number of in-neighbours\n",
    "    - Stars of reachable package with most stars\n",
    "    - Sum of all stars of all reachable packages\n",
    "        - These two ignore time-lag\n",
    "        \n",
    "# Other stuff\n",
    "\n",
    "- Pretty easy to repeat the exercise for Julia packages.\n",
    "    - https://libraries.io/api has a nice API that lets us get dependencies, dependents, other metadata for lots of packages and lots of languages. Would be really neat to compare the ecosystems.\n",
    "        - Rate limit seems mean, though - only allowed 60 requests a minute.\n",
    "- Need to start storing metadata etc.\n",
    "\n",
    "- Could be fun to look at collaboration network and see whether we can predict star success...\n"
   ]
  },
  {
   "cell_type": "code",
   "execution_count": null,
   "metadata": {},
   "outputs": [],
   "source": [
    "#Threads.@threads for i in 1:5\n",
    "#    println(i)\n",
    "#end # aka - how to crash Julia"
   ]
  },
  {
   "cell_type": "code",
   "execution_count": null,
   "metadata": {},
   "outputs": [],
   "source": [
    "# Save package data \n",
    "\n",
    "open(\"pkg_cache.json.gz\",\"w\") do f\n",
    "    write(f,TranscodingStreams.transcode(\n",
    "            CodecZlib.GzipCompressor,Vector{UInt8}(JSON.json(toypackages,4))\n",
    "        )\n",
    "    )\n",
    "end;"
   ]
  },
  {
   "cell_type": "code",
   "execution_count": null,
   "metadata": {},
   "outputs": [],
   "source": []
  }
 ],
 "metadata": {
  "language_info": {
   "name": "julia"
  },
  "kernelspec": {
   "display_name": "Julia 1.0.x",
   "language": "julia",
   "name": "julia-1.0"
  }
 },
 "nbformat": 4,
 "nbformat_minor": 2
}
