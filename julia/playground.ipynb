{
 "cells": [
  {
   "cell_type": "code",
   "execution_count": 2,
   "metadata": {},
   "outputs": [
    {
     "name": "stdout",
     "output_type": "stream",
     "text": [
      "\u001b[32m\u001b[1m  Updating\u001b[22m\u001b[39m registry at `~/.julia/registries/General`\n",
      "\u001b[32m\u001b[1m  Updating\u001b[22m\u001b[39m git-repo `https://github.com/JuliaRegistries/General.git`\n",
      "\u001b[2K\u001b[?25h[1mFetching:\u001b[22m\u001b[39m [========================================>]  100.0 %.0 %=========>                               ]  20.3 %]  40.5 %               ]  62.2 %\u001b[36m\u001b[1mFetching:\u001b[22m\u001b[39m [================================>        ]  79.0 %>]  99.2 %\u001b[32m\u001b[1m Installed\u001b[22m\u001b[39m CodecZlib ─ v0.5.1\n",
      "\u001b[32m\u001b[1m Installed\u001b[22m\u001b[39m IniFile ─── v0.5.0\n",
      "\u001b[32m\u001b[1m Installed\u001b[22m\u001b[39m StatsBase ─ v0.26.0\n",
      "\u001b[32m\u001b[1m Installed\u001b[22m\u001b[39m HTTP ────── v0.7.1\n",
      "\u001b[32m\u001b[1m Installed\u001b[22m\u001b[39m FileIO ──── v1.0.4\n",
      "\u001b[32m\u001b[1m Installed\u001b[22m\u001b[39m Colors ──── v0.9.5\n",
      "\u001b[32m\u001b[1m  Building\u001b[22m\u001b[39m CodecZlib → `~/.julia/packages/CodecZlib/DAjXH/deps/build.log`\n"
     ]
    },
    {
     "name": "stderr",
     "output_type": "stream",
     "text": [
      "┌ Info: Precompiling HTTP [cd3eb016-35fb-5094-929b-558a96fad6f3]\n",
      "└ @ Base loading.jl:1189\n"
     ]
    }
   ],
   "source": [
    "include(\"init.jl\")"
   ]
  },
  {
   "cell_type": "code",
   "execution_count": 3,
   "metadata": {},
   "outputs": [
    {
     "name": "stderr",
     "output_type": "stream",
     "text": [
      "┌ Info: Recompiling stale cache file /home/olie/.julia/compiled/v1.0/Plots/ld3vC.ji for Plots [91a5bcdd-55d7-5caf-9e0b-520d859cae80]\n",
      "└ @ Base loading.jl:1187\n",
      "┌ Info: Recompiling stale cache file /home/olie/.julia/compiled/v1.0/LightGraphs/Xm08G.ji for LightGraphs [093fc24a-ae57-5d10-9952-331d41423f4d]\n",
      "└ @ Base loading.jl:1187\n"
     ]
    },
    {
     "data": {
      "text/plain": [
       "LightGraphs"
      ]
     },
     "execution_count": 3,
     "metadata": {},
     "output_type": "execute_result"
    }
   ],
   "source": [
    "import HTTP, Plots, LightGraphs, JSON\n",
    "const lg = LightGraphs"
   ]
  },
  {
   "cell_type": "code",
   "execution_count": 4,
   "metadata": {},
   "outputs": [
    {
     "name": "stdout",
     "output_type": "stream",
     "text": [
      "DEBUG: 2018-11-29T14:03:25.528 436f ➡️  \"GET /ip HTTP/1.1\\r\\n\" (write)\n",
      "DEBUG: 2018-11-29T14:03:25.545 436f ➡️  \"Host: httpbin.org\\r\\n\" (write)\n",
      "DEBUG: 2018-11-29T14:03:25.545 436f ➡️  \"Content-Length: 0\\r\\n\" (write)\n",
      "DEBUG: 2018-11-29T14:03:25.545 436f ➡️  \"\\r\\n\" (write)\n",
      "DEBUG: 2018-11-29T14:03:26.056 436f ⬅️  \"HTTP/1.1 200 OK\\r\\n\" (readavailable)\n",
      "DEBUG:                                 \"Connection: keep-alive\\r\\n\"\n",
      "DEBUG:                                 \"Server: gunicorn/19.9.0\\r\\n\"\n",
      "DEBUG:                                 \"Date: Thu, 29 Nov 2018 14:03:25 GMT\\r\\n\"\n",
      "DEBUG:                                 \"Content-Type: application/json\\r\\n\"\n",
      "DEBUG:                                 \"Content-Length: 31\\r\\n\"\n",
      "DEBUG:                                 \"Access-Control-Allow-Origin: *\\r\\n\"\n",
      "DEBUG:                                 \"Access-Control-Allow-Credentials: true\\r\\n\"\n",
      "DEBUG:                                 \"Via: 1.1 vegur\\r\\n\"\n",
      "DEBUG:                                 \"\\r\\n\"\n",
      "DEBUG:                                 \"{\\n\"\n",
      "DEBUG:                                 \"  \\\"origin\\\": \\\"88.97.62.219\\\"\\n\"\n",
      "DEBUG:                                 \"}\\n\"\n",
      "DEBUG: 2018-11-29T14:03:26.057 436f ♻️  \"{\\n\" (unread!)\n",
      "DEBUG:                                 \"  \\\"origin\\\": \\\"88.97.62.219\\\"\\n\"\n",
      "DEBUG:                                 \"}\\n\"\n",
      "DEBUG: 2018-11-29T14:03:26.205 436f ⬅️  \"{\\n\" (read)\n",
      "DEBUG:                                 \"  \\\"origin\\\": \\\"88.97.62.219\\\"\\n\"\n",
      "DEBUG:                                 \"}\\n\"\n",
      "200\n",
      "{\n",
      "  \"origin\": \"88.97.62.219\"\n",
      "}\n",
      "\n"
     ]
    }
   ],
   "source": [
    "r = HTTP.request(\"GET\", \"http://httpbin.org/ip\"; verbose=3)\n",
    "println(r.status)\n",
    "println(String(r.body))"
   ]
  },
  {
   "cell_type": "code",
   "execution_count": 5,
   "metadata": {
    "scrolled": false
   },
   "outputs": [
    {
     "name": "stdout",
     "output_type": "stream",
     "text": [
      "DEBUG: 2018-11-29T14:04:27.719 436f ➡️  \"GET /search/repositories?q=more+useful+keyboard HTTP/1.1\\r\\n\" (write)\n",
      "DEBUG: 2018-11-29T14:04:27.737 436f ➡️  \"Host: api.github.com\\r\\n\" (write)\n",
      "DEBUG: 2018-11-29T14:04:27.737 436f ➡️  \"Content-Length: 0\\r\\n\" (write)\n",
      "DEBUG: 2018-11-29T14:04:27.738 436f ➡️  \"\\r\\n\" (write)\n",
      "DEBUG: 2018-11-29T14:04:27.92  436f ⬅️  \"HTTP/1.0 403 Forbidden\\n\" (readavailable)\n",
      "DEBUG:                                 \"Cache-Control: no-cache\\n\"\n",
      "DEBUG:                                 \"Connection: close\\n\"\n",
      "DEBUG:                                 \"Content-Type: text/html\\n\"\n",
      "DEBUG:                                 \"\\n\"\n",
      "DEBUG:                                 \"Request forbidden by administrative rules. Please make sure your request has a User-Agent header (http://developer.github.com/v3/#user-agent-required). Check https://developer.github.com for other possible causes.\\n\"\n",
      "DEBUG: 2018-11-29T14:04:27.92  436f ♻️  \"Request forbidden by administrative rules. Please make sure your request has a User-Agent header (http://developer.github.com/v3/#user-agent-required). Check https://developer.github.com for other possible causes.\\n\" (unread!)\n",
      "DEBUG: 2018-11-29T14:04:28.055 436f ⬅️  \"Request forbidden by administrative rules. Please make sure your request has a User-Agent header (http://developer.github.com/v3/#user-agent-required). Check https://developer.github.com for other possible causes.\\n\" (read)\n",
      "DEBUG: 2018-11-29T14:04:28.54  436f ➡️  \"GET /search/repositories?q=more+useful+keyboard HTTP/1.1\\r\\n\" (write)\n",
      "DEBUG: 2018-11-29T14:04:28.541 436f ➡️  \"Host: api.github.com\\r\\n\" (write)\n",
      "DEBUG: 2018-11-29T14:04:28.541 436f ➡️  \"Content-Length: 0\\r\\n\" (write)\n",
      "DEBUG: 2018-11-29T14:04:28.541 436f ➡️  \"\\r\\n\" (write)\n",
      "DEBUG: 2018-11-29T14:04:28.71  436f ⬅️  \"HTTP/1.0 403 Forbidden\\n\" (readavailable)\n",
      "DEBUG:                                 \"Cache-Control: no-cache\\n\"\n",
      "DEBUG:                                 \"Connection: close\\n\"\n",
      "DEBUG:                                 \"Content-Type: text/html\\n\"\n",
      "DEBUG:                                 \"\\n\"\n",
      "DEBUG:                                 \"Request forbidden by administrative rules. Please make sure your request has a User-Agent header (http://developer.github.com/v3/#user-agent-required). Check https://developer.github.com for other possible causes.\\n\"\n",
      "DEBUG: 2018-11-29T14:04:28.711 436f ♻️  \"Request forbidden by administrative rules. Please make sure your request has a User-Agent header (http://developer.github.com/v3/#user-agent-required). Check https://developer.github.com for other possible causes.\\n\" (unread!)\n",
      "DEBUG: 2018-11-29T14:04:28.711 436f ⬅️  \"Request forbidden by administrative rules. Please make sure your request has a User-Agent header (http://developer.github.com/v3/#user-agent-required). Check https://developer.github.com for other possible causes.\\n\" (read)\n",
      "DEBUG: 2018-11-29T14:04:29.375 436f ➡️  \"GET /search/repositories?q=more+useful+keyboard HTTP/1.1\\r\\n\" (write)\n",
      "DEBUG: 2018-11-29T14:04:29.375 436f ➡️  \"Host: api.github.com\\r\\n\" (write)\n",
      "DEBUG: 2018-11-29T14:04:29.375 436f ➡️  \"Content-Length: 0\\r\\n\" (write)\n",
      "DEBUG: 2018-11-29T14:04:29.376 436f ➡️  \"\\r\\n\" (write)\n",
      "DEBUG: 2018-11-29T14:04:29.544 436f ⬅️  \"HTTP/1.0 403 Forbidden\\n\" (readavailable)\n",
      "DEBUG:                                 \"Cache-Control: no-cache\\n\"\n",
      "DEBUG:                                 \"Connection: close\\n\"\n",
      "DEBUG:                                 \"Content-Type: text/html\\n\"\n",
      "DEBUG:                                 \"\\n\"\n",
      "DEBUG:                                 \"Request forbidden by administrative rules. Please make sure your request has a User-Agent header (http://developer.github.com/v3/#user-agent-required). Check https://developer.github.com for other possible causes.\\n\"\n",
      "DEBUG: 2018-11-29T14:04:29.545 436f ♻️  \"Request forbidden by administrative rules. Please make sure your request has a User-Agent header (http://developer.github.com/v3/#user-agent-required). Check https://developer.github.com for other possible causes.\\n\" (unread!)\n",
      "DEBUG: 2018-11-29T14:04:29.545 436f ⬅️  \"Request forbidden by administrative rules. Please make sure your request has a User-Agent header (http://developer.github.com/v3/#user-agent-required). Check https://developer.github.com for other possible causes.\\n\" (read)\n",
      "DEBUG: 2018-11-29T14:04:31.176 436f ➡️  \"GET /search/repositories?q=more+useful+keyboard HTTP/1.1\\r\\n\" (write)\n",
      "DEBUG: 2018-11-29T14:04:31.176 436f ➡️  \"Host: api.github.com\\r\\n\" (write)\n",
      "DEBUG: 2018-11-29T14:04:31.177 436f ➡️  \"Content-Length: 0\\r\\n\" (write)\n",
      "DEBUG: 2018-11-29T14:04:31.177 436f ➡️  \"\\r\\n\" (write)\n",
      "DEBUG: 2018-11-29T14:04:31.345 436f ⬅️  \"HTTP/1.0 403 Forbidden\\n\" (readavailable)\n",
      "DEBUG:                                 \"Cache-Control: no-cache\\n\"\n",
      "DEBUG:                                 \"Connection: close\\n\"\n",
      "DEBUG:                                 \"Content-Type: text/html\\n\"\n",
      "DEBUG:                                 \"\\n\"\n",
      "DEBUG:                                 \"Request forbidden by administrative rules. Please make sure your request has a User-Agent header (http://developer.github.com/v3/#user-agent-required). Check https://developer.github.com for other possible causes.\\n\"\n",
      "DEBUG: 2018-11-29T14:04:31.346 436f ♻️  \"Request forbidden by administrative rules. Please make sure your request has a User-Agent header (http://developer.github.com/v3/#user-agent-required). Check https://developer.github.com for other possible causes.\\n\" (unread!)\n",
      "DEBUG: 2018-11-29T14:04:31.346 436f ⬅️  \"Request forbidden by administrative rules. Please make sure your request has a User-Agent header (http://developer.github.com/v3/#user-agent-required). Check https://developer.github.com for other possible causes.\\n\" (read)\n",
      "DEBUG: 2018-11-29T14:04:37.477 436f ➡️  \"GET /search/repositories?q=more+useful+keyboard HTTP/1.1\\r\\n\" (write)\n",
      "DEBUG: 2018-11-29T14:04:37.477 436f ➡️  \"Host: api.github.com\\r\\n\" (write)\n",
      "DEBUG: 2018-11-29T14:04:37.477 436f ➡️  \"Content-Length: 0\\r\\n\" (write)\n",
      "DEBUG: 2018-11-29T14:04:37.477 436f ➡️  \"\\r\\n\" (write)\n",
      "DEBUG: 2018-11-29T14:04:37.642 436f ⬅️  \"HTTP/1.0 403 Forbidden\\n\" (readavailable)\n",
      "DEBUG:                                 \"Cache-Control: no-cache\\n\"\n",
      "DEBUG:                                 \"Connection: close\\n\"\n",
      "DEBUG:                                 \"Content-Type: text/html\\n\"\n",
      "DEBUG:                                 \"\\n\"\n",
      "DEBUG:                                 \"Request forbidden by administrative rules. Please make sure your request has a User-Agent header (http://developer.github.com/v3/#user-agent-required). Check https://developer.github.com for other possible causes.\\n\"\n",
      "DEBUG: 2018-11-29T14:04:37.642 436f ♻️  \"Request forbidden by administrative rules. Please make sure your request has a User-Agent header (http://developer.github.com/v3/#user-agent-required). Check https://developer.github.com for other possible causes.\\n\" (unread!)\n",
      "DEBUG: 2018-11-29T14:04:37.642 436f ⬅️  \"Request forbidden by administrative rules. Please make sure your request has a User-Agent header (http://developer.github.com/v3/#user-agent-required). Check https://developer.github.com for other possible causes.\\n\" (read)\n"
     ]
    },
    {
     "ename": "HTTP.ExceptionRequest.StatusError",
     "evalue": "HTTP.ExceptionRequest.StatusError(403, HTTP.Messages.Response:\n\"\"\"\nHTTP/1.0 403 Forbidden\r\nCache-Control: no-cache\r\nConnection: close\r\nContent-Type: text/html\r\n\r\nRequest forbidden by administrative rules. Please make sure your request has a User-Agent header (http://developer.github.com/v3/#user-agent-required). Check https://developer.github.com for other possible causes.\n\"\"\")",
     "output_type": "error",
     "traceback": [
      "HTTP.ExceptionRequest.StatusError(403, HTTP.Messages.Response:\n\"\"\"\nHTTP/1.0 403 Forbidden\r\nCache-Control: no-cache\r\nConnection: close\r\nContent-Type: text/html\r\n\r\nRequest forbidden by administrative rules. Please make sure your request has a User-Agent header (http://developer.github.com/v3/#user-agent-required). Check https://developer.github.com for other possible causes.\n\"\"\")",
      "",
      "Stacktrace:",
      " [1] #request#1 at /home/olie/.julia/packages/HTTP/YjRCz/src/ExceptionRequest.jl:22 [inlined]",
      " [2] (::getfield(HTTP, Symbol(\"#kw##request\")))(::NamedTuple{(:iofunction, :verbose),Tuple{Nothing,Int64}}, ::typeof(HTTP.request), ::Type{HTTP.ExceptionRequest.ExceptionLayer{HTTP.ConnectionRequest.ConnectionPoolLayer{HTTP.DebugRequest.DebugLayer{HTTP.StreamRequest.StreamLayer}}}}, ::HTTP.URIs.URI, ::HTTP.Messages.Request, ::Array{UInt8,1}) at ./none:0",
      " [3] (::getfield(Base, Symbol(\"###44#45#46\")){ExponentialBackOff,getfield(HTTP.RetryRequest, Symbol(\"##2#3\")){Bool,HTTP.Messages.Request},typeof(HTTP.request)})(::Base.Iterators.Pairs{Symbol,Union{Nothing, Int64},Tuple{Symbol,Symbol},NamedTuple{(:iofunction, :verbose),Tuple{Nothing,Int64}}}, ::Function, ::Type, ::Vararg{Any,N} where N) at ./error.jl:216",
      " [4] ##44#47 at ./none:0 [inlined]",
      " [5] #request#1 at /home/olie/.julia/packages/HTTP/YjRCz/src/RetryRequest.jl:44 [inlined]",
      " [6] #request at ./none:0 [inlined]",
      " [7] #request#1(::VersionNumber, ::String, ::Nothing, ::Nothing, ::Base.Iterators.Pairs{Symbol,Int64,Tuple{Symbol},NamedTuple{(:verbose,),Tuple{Int64}}}, ::Function, ::Type{HTTP.MessageRequest.MessageLayer{HTTP.RetryRequest.RetryLayer{HTTP.ExceptionRequest.ExceptionLayer{HTTP.ConnectionRequest.ConnectionPoolLayer{HTTP.DebugRequest.DebugLayer{HTTP.StreamRequest.StreamLayer}}}}}}, ::String, ::HTTP.URIs.URI, ::Array{Pair{SubString{String},SubString{String}},1}, ::Array{UInt8,1}) at /home/olie/.julia/packages/HTTP/YjRCz/src/MessageRequest.jl:47",
      " [8] (::getfield(HTTP, Symbol(\"#kw##request\")))(::NamedTuple{(:verbose,),Tuple{Int64}}, ::typeof(HTTP.request), ::Type{HTTP.MessageRequest.MessageLayer{HTTP.RetryRequest.RetryLayer{HTTP.ExceptionRequest.ExceptionLayer{HTTP.ConnectionRequest.ConnectionPoolLayer{HTTP.DebugRequest.DebugLayer{HTTP.StreamRequest.StreamLayer}}}}}}, ::String, ::HTTP.URIs.URI, ::Array{Pair{SubString{String},SubString{String}},1}, ::Array{UInt8,1}) at ./none:0",
      " [9] #request#1(::Int64, ::Bool, ::Base.Iterators.Pairs{Symbol,Int64,Tuple{Symbol},NamedTuple{(:verbose,),Tuple{Int64}}}, ::Function, ::Type{HTTP.RedirectRequest.RedirectLayer{HTTP.MessageRequest.MessageLayer{HTTP.RetryRequest.RetryLayer{HTTP.ExceptionRequest.ExceptionLayer{HTTP.ConnectionRequest.ConnectionPoolLayer{HTTP.DebugRequest.DebugLayer{HTTP.StreamRequest.StreamLayer}}}}}}}, ::String, ::HTTP.URIs.URI, ::Array{Pair{SubString{String},SubString{String}},1}, ::Array{UInt8,1}) at /home/olie/.julia/packages/HTTP/YjRCz/src/RedirectRequest.jl:24",
      " [10] (::getfield(HTTP, Symbol(\"#kw##request\")))(::NamedTuple{(:verbose,),Tuple{Int64}}, ::typeof(HTTP.request), ::Type{HTTP.RedirectRequest.RedirectLayer{HTTP.MessageRequest.MessageLayer{HTTP.RetryRequest.RetryLayer{HTTP.ExceptionRequest.ExceptionLayer{HTTP.ConnectionRequest.ConnectionPoolLayer{HTTP.DebugRequest.DebugLayer{HTTP.StreamRequest.StreamLayer}}}}}}}, ::String, ::HTTP.URIs.URI, ::Array{Pair{SubString{String},SubString{String}},1}, ::Array{UInt8,1}) at ./none:0",
      " [11] #request#3(::Base.Iterators.Pairs{Symbol,Int64,Tuple{Symbol},NamedTuple{(:verbose,),Tuple{Int64}}}, ::Function, ::String, ::HTTP.URIs.URI, ::Array{Pair{SubString{String},SubString{String}},1}, ::Array{UInt8,1}) at /home/olie/.julia/packages/HTTP/YjRCz/src/HTTP.jl:302",
      " [12] #request at ./none:0 [inlined]",
      " [13] #request#4 at /home/olie/.julia/packages/HTTP/YjRCz/src/HTTP.jl:316 [inlined]",
      " [14] #request at ./none:0 [inlined] (repeats 2 times)",
      " [15] top-level scope at In[5]:1"
     ]
    }
   ],
   "source": [
    "r = HTTP.request(\"GET\", \"https://api.github.com/search/repositories?q=more+useful+keyboard\"; verbose=3)\n",
    "println(r.status)\n",
    "println(String(r.body))\n",
    "\n",
    "# Need to provide a user agent via eg https://juliaweb.github.io/HTTP.jl/stable/index.html#HTTP.MessageRequest.setuseragent! as per https://developer.github.com/v3/#user-agent-required"
   ]
  },
  {
   "cell_type": "code",
   "execution_count": null,
   "metadata": {},
   "outputs": [],
   "source": []
  }
 ],
 "metadata": {
  "kernelspec": {
   "display_name": "Julia 1.0.1",
   "language": "julia",
   "name": "julia-1.0"
  },
  "language_info": {
   "file_extension": ".jl",
   "mimetype": "application/julia",
   "name": "julia",
   "version": "1.0.1"
  }
 },
 "nbformat": 4,
 "nbformat_minor": 2
}
