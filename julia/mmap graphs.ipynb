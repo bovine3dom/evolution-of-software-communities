{
 "cells": [
  {
   "cell_type": "code",
   "execution_count": null,
   "metadata": {},
   "outputs": [],
   "source": [
    "include(\"init.jl\")"
   ]
  },
  {
   "cell_type": "code",
   "execution_count": null,
   "metadata": {},
   "outputs": [],
   "source": [
    "import LightGraphs\n",
    "import SparseArrays"
   ]
  },
  {
   "cell_type": "code",
   "execution_count": null,
   "metadata": {},
   "outputs": [],
   "source": [
    "NODES = 1_000_000\n",
    "EDGES = NODES * 3 |> round |> Int"
   ]
  },
  {
   "cell_type": "code",
   "execution_count": null,
   "metadata": {},
   "outputs": [],
   "source": [
    "# spadj = SparseArrays.sparse(\n",
    "#     rand(1:NODES,EDGES),\n",
    "#     rand(1:NODES,EDGES),\n",
    "#     true,\n",
    "#     NODES,\n",
    "#     NODES,\n",
    "# )"
   ]
  },
  {
   "cell_type": "code",
   "execution_count": null,
   "metadata": {},
   "outputs": [],
   "source": [
    "import StaticGraphs"
   ]
  },
  {
   "cell_type": "code",
   "execution_count": null,
   "metadata": {},
   "outputs": [],
   "source": [
    "# gs2 = StaticGraphs.StaticDiGraph(\n",
    "#     NODES,\n",
    "#     rand(1:NODES,EDGES),\n",
    "#     rand(1:NODES,EDGES),\n",
    "#     rand(1:NODES,EDGES),\n",
    "#     rand(1:NODES,EDGES),\n",
    "# )\n",
    "\n",
    "# Broken as edge lists need to be sorted"
   ]
  },
  {
   "cell_type": "code",
   "execution_count": null,
   "metadata": {},
   "outputs": [],
   "source": [
    "srcs = rand(1:NODES,EDGES)\n",
    "dsts = rand(1:NODES,EDGES)\n",
    "@time gs3 = StaticGraphs.StaticDiGraph(\n",
    "    NODES,\n",
    "    sort([(srcs[i],dsts[i]) for i in 1:EDGES]),\n",
    "    sort([(dsts[i],srcs[i]) for i in 1:EDGES]),\n",
    ")\n",
    "# Ah. So edges have to be sorted.\n",
    "# Sort can run out of memory.\n",
    "# Should do some thinking and see if we can use the gs2 method."
   ]
  },
  {
   "cell_type": "code",
   "execution_count": null,
   "metadata": {},
   "outputs": [],
   "source": [
    "varinfo()\n",
    "# Barely takes up any memory at all while it's just hanging about.\n",
    "# So not really any point in mmapping it?"
   ]
  },
  {
   "cell_type": "code",
   "execution_count": null,
   "metadata": {},
   "outputs": [],
   "source": [
    "LightGraphs.adjacency_matrix(gs3)"
   ]
  }
 ],
 "metadata": {
  "language_info": {
   "name": "julia"
  },
  "kernelspec": {
   "display_name": "Julia 1.0.x",
   "language": "julia",
   "name": "julia-1.0"
  }
 },
 "nbformat": 4,
 "nbformat_minor": 2
}
